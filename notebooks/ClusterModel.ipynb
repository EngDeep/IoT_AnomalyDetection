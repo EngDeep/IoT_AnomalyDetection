{
 "cells": [
  {
   "cell_type": "markdown",
   "metadata": {},
   "source": [
    "# IoT Anomaly Detection - Cluster Models\n",
    "\n",
    "The purpose of this notebook is to create model per group of devices of the same type."
   ]
  },
  {
   "cell_type": "code",
   "execution_count": 1,
   "metadata": {},
   "outputs": [],
   "source": [
    "# imports\n",
    "import sys\n",
    "sys.path.append('../src')\n",
    "from main import main\n",
    "from ConfigConsts import *\n",
    "from collections import OrderedDict"
   ]
  },
  {
   "cell_type": "code",
   "execution_count": 2,
   "metadata": {},
   "outputs": [],
   "source": [
    "# Consts\n",
    "CLUSTER_ARGS_FILE_PATH = \"@../args/cluster/{}_Cluster.txt\"\n",
    "CLUSTER_DELIMETER = \"_\"\n",
    "PROV_SECURITY_CAM = PROV_737_SECURITY_CAM + CLUSTER_DELIMETER + PROV_838_SECURITY_CAM\n",
    "\n",
    "CLUSTER_ARGS_FILES = [\n",
    "    (PROV_SECURITY_CAM,              [CLUSTER_ARGS_FILE_PATH.format(PROV_SECURITY_CAM)]),\n",
    "]"
   ]
  },
  {
   "cell_type": "code",
   "execution_count": 3,
   "metadata": {},
   "outputs": [
    {
     "name": "stdout",
     "output_type": "stream",
     "text": [
      "Configuration:\n",
      "================\n",
      "name=Provision_737_Security_Camera_Provision_838_Security_Camera_Cluster\n",
      "model=AutoEncoder\n",
      "loss=MSE\n",
      "optimizer=SGD\n",
      "learning_rate=0.02\n",
      "epochs=350\n",
      "batch_size=32\n",
      "iots=['Provision_737_Security_Camera', 'Provision_838_Security_Camera']\n",
      "train_test_split=0.66\n",
      "train_val_split=0.8\n",
      "model_filename=None\n",
      "train=True\n",
      "test=True\n",
      "----------------------------------------------------------------\n",
      "        Layer (type)               Output Shape         Param #\n",
      "================================================================\n",
      "            Linear-1                [-1, 1, 86]           9,976\n",
      "           Sigmoid-2                [-1, 1, 86]               0\n",
      "            Linear-3                [-1, 1, 57]           4,959\n",
      "           Sigmoid-4                [-1, 1, 57]               0\n",
      "            Linear-5                [-1, 1, 38]           2,204\n",
      "           Sigmoid-6                [-1, 1, 38]               0\n",
      "            Linear-7                [-1, 1, 23]             897\n",
      "           Sigmoid-8                [-1, 1, 23]               0\n",
      "            Linear-9                [-1, 1, 38]             912\n",
      "          Sigmoid-10                [-1, 1, 38]               0\n",
      "           Linear-11                [-1, 1, 57]           2,223\n",
      "          Sigmoid-12                [-1, 1, 57]               0\n",
      "           Linear-13                [-1, 1, 86]           4,988\n",
      "          Sigmoid-14                [-1, 1, 86]               0\n",
      "           Linear-15               [-1, 1, 115]          10,005\n",
      "          Sigmoid-16               [-1, 1, 115]               0\n",
      "================================================================\n",
      "Total params: 36,164\n",
      "Trainable params: 36,164\n",
      "Non-trainable params: 0\n",
      "----------------------------------------------------------------\n",
      "Input size (MB): 0.00\n",
      "Forward/backward pass size (MB): 0.01\n",
      "Params size (MB): 0.14\n",
      "Estimated Total Size (MB): 0.15\n",
      "----------------------------------------------------------------\n",
      "Epoch 0, train avg loss 0.079616, val avg loss 0.042367\n",
      "Epoch 50, train avg loss 0.024558, val avg loss 0.027764\n",
      "Epoch 100, train avg loss 0.024544, val avg loss 0.027755\n",
      "Epoch 150, train avg loss 0.024540, val avg loss 0.027753\n",
      "Epoch 200, train avg loss 0.024538, val avg loss 0.027753\n",
      "Epoch 250, train avg loss 0.024537, val avg loss 0.027752\n",
      "Epoch 300, train avg loss 0.024536, val avg loss 0.027752\n",
      "model: <IoTAnomalyDetectorAutoEncoderNet.IoTAnomalyDetectorAutoEncoderNet object at 0x0000026F2C4C5F60>\n",
      "tr*:   0.061236247420310974\n",
      "ws*:   230\n",
      "\n"
     ]
    },
    {
     "data": {
      "image/png": "[encoded data removed]",
      "text/plain": [
       "<matplotlib.figure.Figure at 0x26f2c4e05c0>"
      ]
     },
     "metadata": {
      "needs_background": "light"
     },
     "output_type": "display_data"
    }
   ],
   "source": [
    "dfs_results = OrderedDict()\n",
    "for iot, args in CLUSTER_ARGS_FILES:\n",
    "    dfs_results[iot] = main(args)"
   ]
  },
  {
   "cell_type": "code",
   "execution_count": 4,
   "metadata": {},
   "outputs": [
    {
     "data": {
      "text/html": [
       "<div>\n",
       "<style scoped>\n",
       "    .dataframe tbody tr th:only-of-type {\n",
       "        vertical-align: middle;\n",
       "    }\n",
       "\n",
       "    .dataframe tbody tr th {\n",
       "        vertical-align: top;\n",
       "    }\n",
       "\n",
       "    .dataframe thead th {\n",
       "        text-align: right;\n",
       "    }\n",
       "</style>\n",
       "<table border=\"1\" class=\"dataframe\">\n",
       "  <thead>\n",
       "    <tr style=\"text-align: right;\">\n",
       "      <th></th>\n",
       "      <th>Provision_737_Security_Camera</th>\n",
       "      <th>Provision_838_Security_Camera</th>\n",
       "    </tr>\n",
       "  </thead>\n",
       "  <tbody>\n",
       "    <tr>\n",
       "      <th>benign_test</th>\n",
       "      <td>0.000000</td>\n",
       "      <td>0.001164</td>\n",
       "    </tr>\n",
       "    <tr>\n",
       "      <th>gafgyt_combo</th>\n",
       "      <td>0.998012</td>\n",
       "      <td>0.997827</td>\n",
       "    </tr>\n",
       "    <tr>\n",
       "      <th>gafgyt_junk</th>\n",
       "      <td>0.995793</td>\n",
       "      <td>0.995803</td>\n",
       "    </tr>\n",
       "    <tr>\n",
       "      <th>gafgyt_scan</th>\n",
       "      <td>0.995802</td>\n",
       "      <td>0.995528</td>\n",
       "    </tr>\n",
       "    <tr>\n",
       "      <th>gafgyt_tcp</th>\n",
       "      <td>0.000000</td>\n",
       "      <td>0.000000</td>\n",
       "    </tr>\n",
       "    <tr>\n",
       "      <th>gafgyt_udp</th>\n",
       "      <td>0.000000</td>\n",
       "      <td>0.000000</td>\n",
       "    </tr>\n",
       "    <tr>\n",
       "      <th>mirai_ack</th>\n",
       "      <td>0.997919</td>\n",
       "      <td>0.997827</td>\n",
       "    </tr>\n",
       "    <tr>\n",
       "      <th>mirai_scan</th>\n",
       "      <td>0.998760</td>\n",
       "      <td>0.998702</td>\n",
       "    </tr>\n",
       "    <tr>\n",
       "      <th>mirai_syn</th>\n",
       "      <td>0.998053</td>\n",
       "      <td>0.998060</td>\n",
       "    </tr>\n",
       "    <tr>\n",
       "      <th>mirai_udp</th>\n",
       "      <td>0.999245</td>\n",
       "      <td>0.999256</td>\n",
       "    </tr>\n",
       "    <tr>\n",
       "      <th>mirai_udpplain</th>\n",
       "      <td>0.997901</td>\n",
       "      <td>0.997825</td>\n",
       "    </tr>\n",
       "  </tbody>\n",
       "</table>\n",
       "</div>"
      ],
      "text/plain": [
       "                Provision_737_Security_Camera  Provision_838_Security_Camera\n",
       "benign_test                          0.000000                       0.001164\n",
       "gafgyt_combo                         0.998012                       0.997827\n",
       "gafgyt_junk                          0.995793                       0.995803\n",
       "gafgyt_scan                          0.995802                       0.995528\n",
       "gafgyt_tcp                           0.000000                       0.000000\n",
       "gafgyt_udp                           0.000000                       0.000000\n",
       "mirai_ack                            0.997919                       0.997827\n",
       "mirai_scan                           0.998760                       0.998702\n",
       "mirai_syn                            0.998053                       0.998060\n",
       "mirai_udp                            0.999245                       0.999256\n",
       "mirai_udpplain                       0.997901                       0.997825"
      ]
     },
     "metadata": {},
     "output_type": "display_data"
    }
   ],
   "source": [
    "for iot, results in dfs_results.items():\n",
    "    display(results)"
   ]
  },
  {
   "cell_type": "code",
   "execution_count": null,
   "metadata": {},
   "outputs": [],
   "source": []
  }
 ],
 "metadata": {
  "kernelspec": {
   "display_name": "Python 3",
   "language": "python",
   "name": "python3"
  },
  "language_info": {
   "codemirror_mode": {
    "name": "ipython",
    "version": 3
   },
   "file_extension": ".py",
   "mimetype": "text/x-python",
   "name": "python",
   "nbconvert_exporter": "python",
   "pygments_lexer": "ipython3",
   "version": "3.6.4"
  }
 },
 "nbformat": 4,
 "nbformat_minor": 2
}
